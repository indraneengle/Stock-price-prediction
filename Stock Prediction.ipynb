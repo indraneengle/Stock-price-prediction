{
 "cells": [
  {
   "cell_type": "code",
   "execution_count": 81,
   "id": "76949fe7",
   "metadata": {},
   "outputs": [],
   "source": [
    "from bs4 import BeautifulSoup\n",
    "import requests\n",
    "import html5lib\n",
    "from selenium import webdriver\n",
    "from selenium.webdriver.support.ui import Select\n",
    "from selenium.webdriver.common.by import By\n",
    "import pandas as pd"
   ]
  },
  {
   "cell_type": "code",
   "execution_count": 84,
   "id": "eadf9912",
   "metadata": {},
   "outputs": [],
   "source": [
    "rurl='https://ipocentral.in/nifty-50-stock-list-weightage/'\n",
    "resq=requests.get(rurl)\n",
    "soup=BeautifulSoup(resq.text,'html.parser')"
   ]
  },
  {
   "cell_type": "code",
   "execution_count": 85,
   "id": "ae31c24a",
   "metadata": {},
   "outputs": [],
   "source": [
    "companies=soup.find_all('table')"
   ]
  },
  {
   "cell_type": "code",
   "execution_count": 86,
   "id": "d2234b5a",
   "metadata": {},
   "outputs": [],
   "source": [
    "nifty=[]\n",
    "for i in companies:\n",
    "    for j in i.find_all('strong'):\n",
    "        nifty.append(j.text)\n",
    "nifty=nifty[5:]\n",
    "for i in nifty:\n",
    "    if i[0] not in 'ABCDEFGHIJLMNOPQRSTUVWXYZ':\n",
    "        nifty.remove(i)"
   ]
  },
  {
   "cell_type": "code",
   "execution_count": 87,
   "id": "8cc14149",
   "metadata": {},
   "outputs": [],
   "source": [
    "fifty_companies=[i.replace(' ','') for i in nifty]\n",
    "fifty_companies=[i+'.NS' for i in fifty_companies]\n",
    "for i in range(len(fifty_companies)):\n",
    "    if fifty_companies[i]=='BHARTIAIRTL.NS':\n",
    "        fifty_companies[i]='BHARTIARTL.NS'"
   ]
  },
  {
   "cell_type": "code",
   "execution_count": 88,
   "id": "b01db736",
   "metadata": {},
   "outputs": [],
   "source": [
    "re=['ASIANPAINTS.NS','INDUSBNK.NS','\\xa0.NS','EICHERMOTO.NS','APPOLOHOSP.NS']\n",
    "for i in re:\n",
    "    fifty_companies.remove(i)"
   ]
  },
  {
   "cell_type": "code",
   "execution_count": 89,
   "id": "23a1d6b4",
   "metadata": {},
   "outputs": [],
   "source": [
    "s=['INDUSINDBK.NS','ASIANPAINT.NS','EICHERMOT.NS','APOLLOHOSP.NS','KOTAKBANK.NS']"
   ]
  },
  {
   "cell_type": "code",
   "execution_count": 90,
   "id": "040a1c6d",
   "metadata": {},
   "outputs": [],
   "source": [
    "fifty_companies=fifty_companies+s"
   ]
  },
  {
   "cell_type": "code",
   "execution_count": 91,
   "id": "9a021100",
   "metadata": {},
   "outputs": [],
   "source": [
    "finalest = pd.DataFrame(columns=['Date1','Open','High','Low','Close','Adj Close','Volume','Company'])"
   ]
  },
  {
   "cell_type": "code",
   "execution_count": 25,
   "id": "af8b46e6",
   "metadata": {},
   "outputs": [],
   "source": [
    "# new2=new1[:13]\n",
    "# new3=new1[14:26]\n",
    "# new4=new1[26:39]\n",
    "# new5=new1[39:]"
   ]
  },
  {
   "cell_type": "code",
   "execution_count": 92,
   "id": "0dfe10ae",
   "metadata": {
    "scrolled": true
   },
   "outputs": [
    {
     "name": "stdout",
     "output_type": "stream",
     "text": [
      "[*********************100%***********************]  1 of 1 completed\n",
      "[*********************100%***********************]  1 of 1 completed\n",
      "[*********************100%***********************]  1 of 1 completed\n",
      "[*********************100%***********************]  1 of 1 completed\n",
      "[*********************100%***********************]  1 of 1 completed\n",
      "[*********************100%***********************]  1 of 1 completed\n",
      "[*********************100%***********************]  1 of 1 completed\n",
      "[*********************100%***********************]  1 of 1 completed\n",
      "[*********************100%***********************]  1 of 1 completed\n",
      "[*********************100%***********************]  1 of 1 completed\n",
      "[*********************100%***********************]  1 of 1 completed\n",
      "[*********************100%***********************]  1 of 1 completed\n",
      "[*********************100%***********************]  1 of 1 completed\n",
      "[*********************100%***********************]  1 of 1 completed\n",
      "[*********************100%***********************]  1 of 1 completed\n",
      "[*********************100%***********************]  1 of 1 completed\n",
      "[*********************100%***********************]  1 of 1 completed\n",
      "[*********************100%***********************]  1 of 1 completed\n",
      "[*********************100%***********************]  1 of 1 completed\n",
      "[*********************100%***********************]  1 of 1 completed\n",
      "[*********************100%***********************]  1 of 1 completed\n",
      "[*********************100%***********************]  1 of 1 completed\n",
      "[*********************100%***********************]  1 of 1 completed\n",
      "[*********************100%***********************]  1 of 1 completed\n",
      "[*********************100%***********************]  1 of 1 completed\n",
      "[*********************100%***********************]  1 of 1 completed\n",
      "[*********************100%***********************]  1 of 1 completed\n",
      "[*********************100%***********************]  1 of 1 completed\n",
      "[*********************100%***********************]  1 of 1 completed\n",
      "[*********************100%***********************]  1 of 1 completed\n",
      "[*********************100%***********************]  1 of 1 completed\n",
      "[*********************100%***********************]  1 of 1 completed\n",
      "[*********************100%***********************]  1 of 1 completed\n",
      "[*********************100%***********************]  1 of 1 completed\n",
      "[*********************100%***********************]  1 of 1 completed\n",
      "[*********************100%***********************]  1 of 1 completed\n",
      "[*********************100%***********************]  1 of 1 completed\n",
      "[*********************100%***********************]  1 of 1 completed\n",
      "[*********************100%***********************]  1 of 1 completed\n",
      "[*********************100%***********************]  1 of 1 completed\n",
      "[*********************100%***********************]  1 of 1 completed\n",
      "[*********************100%***********************]  1 of 1 completed\n",
      "[*********************100%***********************]  1 of 1 completed\n",
      "[*********************100%***********************]  1 of 1 completed\n",
      "[*********************100%***********************]  1 of 1 completed\n",
      "[*********************100%***********************]  1 of 1 completed\n",
      "[*********************100%***********************]  1 of 1 completed\n",
      "[*********************100%***********************]  1 of 1 completed\n",
      "[*********************100%***********************]  1 of 1 completed\n",
      "[*********************100%***********************]  1 of 1 completed\n"
     ]
    }
   ],
   "source": [
    "import yfinance as yf\n",
    "for i in fifty_companies:\n",
    "    data = yf.download(i,'2018-01-01','2022-12-31')\n",
    "    data['Company']=''\n",
    "    data.loc[:,'Company']=i.strip('.NS')\n",
    "#     data.to_csv(i.strip('.NS')+'.csv')\n",
    "    finalest=pd.concat([finalest,data])"
   ]
  },
  {
   "cell_type": "code",
   "execution_count": 93,
   "id": "60c82df2",
   "metadata": {},
   "outputs": [],
   "source": [
    "finalest.reset_index(inplace=True)"
   ]
  },
  {
   "cell_type": "code",
   "execution_count": 94,
   "id": "daeffb44",
   "metadata": {},
   "outputs": [],
   "source": [
    "finalest.drop(columns=['Date1'],inplace=True)"
   ]
  },
  {
   "cell_type": "code",
   "execution_count": 95,
   "id": "ccac50cd",
   "metadata": {},
   "outputs": [],
   "source": [
    "for i in finalest.columns[:-1]:\n",
    "    finalest[i]=pd.to_numeric(finalest[i],errors='coerce')"
   ]
  },
  {
   "cell_type": "code",
   "execution_count": 96,
   "id": "94ebf9c2",
   "metadata": {},
   "outputs": [],
   "source": [
    "finalest['index']=pd.to_datetime(finalest['index'])"
   ]
  },
  {
   "cell_type": "code",
   "execution_count": 97,
   "id": "a1e0e1fc",
   "metadata": {},
   "outputs": [],
   "source": [
    "finalest.to_csv('nifty50.csv')"
   ]
  },
  {
   "cell_type": "code",
   "execution_count": null,
   "id": "5c643edf",
   "metadata": {},
   "outputs": [],
   "source": [
    "for company in fifty_companies:\n",
    "    web='https://finance.yahoo.com/quote/'+company'/history?p='+company\n",
    "    driver=webdriver.Chrome(path)\n",
    "    driver.get(web)\n",
    "    driver.find_element(By.XPATH,\"//span[contains(text(),'Nov 04, 2021 - Nov 04, 2022')]\").click()\n",
    "    time.sleep(11)\n",
    "    driver.find_element(By.XPATH,\"//body/div[@id='app']/div[1]/div[1]/div[1]/div[1]/div[3]/div[1]/div[1]/div[2]/section[1]/div[1]/div[1]/div[1]/div[1]/div[1]/div[2]/div[1]/ul[2]/li[4]/button[1]\").click()\n",
    "    time.sleep(11)\n",
    "    driver.find_element(By.XPATH,\"//body/div[@id='app']/div[1]/div[1]/div[1]/div[1]/div[3]/div[1]/div[1]/div[2]/section[1]/div[1]/div[1]/button[1]\").click()\n",
    "    time.sleep(11)\n",
    "    driver.find_element(By.XPATH,\"//body/div[@id='app']/div[1]/div[1]/div[1]/div[1]/div[3]/div[1]/div[1]/div[2]/section[1]/div[1]/div[2]/span[2]/a[1]\").click()\n",
    "\n"
   ]
  },
  {
   "cell_type": "code",
   "execution_count": 18,
   "id": "b2460f1f",
   "metadata": {},
   "outputs": [],
   "source": [
    "# x=pd.get_dummies(finalest['Company'])\n",
    "# nifty50=pd.concat([finalest,x],axis=1)\n",
    "# nifty50.drop(columns='Company',inplace=True)"
   ]
  },
  {
   "cell_type": "code",
   "execution_count": 36,
   "id": "6f796f69",
   "metadata": {},
   "outputs": [],
   "source": [
    "import pickle\n",
    "filename = 'finalized_model.sav'\n",
    "pickle.dump(final_model, open(filename, 'wb'))"
   ]
  },
  {
   "cell_type": "markdown",
   "id": "eb4fe2a9",
   "metadata": {},
   "source": [
    "## Final Model"
   ]
  },
  {
   "cell_type": "code",
   "execution_count": 3,
   "id": "9a11598e",
   "metadata": {},
   "outputs": [],
   "source": [
    "import yfinance as yf\n",
    "import pandas as pd\n",
    "import numpy as np\n",
    "from datetime import date,datetime,timedelta\n",
    "from sklearn.preprocessing import MinMaxScaler\n",
    "from sklearn.preprocessing import MinMaxScaler\n",
    "from keras.layers import Dense, Dropout , LSTM\n",
    "from keras.models import Sequential\n",
    "import time\n",
    "from datetime import datetime,date,timedelta"
   ]
  },
  {
   "cell_type": "code",
   "execution_count": null,
   "id": "0f7e3683",
   "metadata": {},
   "outputs": [],
   "source": [
    "ticker=ws.cell(1,4).value+'.NS'\n",
    "quantity=ws.cell(2,4).value\n",
    "Buying_date=ws.cell(3,4).value\n",
    "selling_date=ws.cell(4,4).value"
   ]
  },
  {
   "cell_type": "code",
   "execution_count": null,
   "id": "9375907e",
   "metadata": {},
   "outputs": [],
   "source": [
    "sell_year=int(selling_date.split('-')[0])\n",
    "sell_month=int(selling_date.split('-')[1])\n",
    "sell_day=int(selling_date.split('-')[2])\n",
    "our_end_date=date(2022,3,31)\n",
    "sell_date=date(sell_year,sell_month,sell_day)"
   ]
  },
  {
   "cell_type": "code",
   "execution_count": null,
   "id": "6d6d884e",
   "metadata": {},
   "outputs": [],
   "source": [
    "buy_year=int(Buying_date.split('-')[0])\n",
    "buy_month=int(Buying_date.split('-')[1])\n",
    "buy_day=int(Buying_date.split('-')[2])\n",
    "our_end_date=date(2022,3,31)\n",
    "buy_date=date(buy_year,buy_month,buy_day)"
   ]
  },
  {
   "cell_type": "code",
   "execution_count": null,
   "id": "003b850b",
   "metadata": {},
   "outputs": [],
   "source": [
    "Profit_loss=(sell_date_price-buy_date_price)*int(quantity)"
   ]
  },
  {
   "cell_type": "code",
   "execution_count": 10,
   "id": "fd404707",
   "metadata": {
    "scrolled": true
   },
   "outputs": [
    {
     "name": "stdout",
     "output_type": "stream",
     "text": [
      "[*********************100%***********************]  1 of 1 completed\n"
     ]
    }
   ],
   "source": [
    "df=yf.download(ticker,'2018-01-01','2022-03-31')\n",
    "data = df.sort_index(ascending=True, axis=0)\n",
    "dat=data.reset_index()\n",
    "new_data = pd.DataFrame(index=range(0,len(df)),columns=['Date', 'Close'])\n",
    "for i in range(0,len(data)):\n",
    "    new_data['Date'][i] = dat['Date'][i]\n",
    "    new_data['Close'][i] = dat['Close'][i]\n",
    "\n",
    "#setting index\n",
    "new_data.index = new_data.Date\n",
    "new_data.drop('Date', axis=1, inplace=True)\n",
    "\n",
    "#creating train and test sets\n",
    "dataset = new_data.values"
   ]
  },
  {
   "cell_type": "code",
   "execution_count": 11,
   "id": "10bebd8e",
   "metadata": {},
   "outputs": [],
   "source": [
    "train = dataset[0:int(0.7*len(df)),:]\n",
    "valid = dataset[int(0.7*len(df)):,:]\n",
    "\n",
    "#converting dataset into x_train and y_train\n",
    "scaler = MinMaxScaler(feature_range=(0, 1))\n",
    "scaled_data = scaler.fit_transform(dataset)\n",
    "\n",
    "x_train, y_train = [], []\n",
    "for i in range(100,len(train)):\n",
    "    x_train.append(scaled_data[i-100:i,0])\n",
    "    y_train.append(scaled_data[i,0])\n",
    "x_train, y_train = np.array(x_train), np.array(y_train)\n",
    "\n",
    "x_train = np.reshape(x_train, (x_train.shape[0],x_train.shape[1],1))\n",
    "\n",
    "valid = scaled_data[int(0.7*len(df)):,:]"
   ]
  },
  {
   "cell_type": "code",
   "execution_count": 27,
   "id": "103486e4",
   "metadata": {},
   "outputs": [],
   "source": [
    "model = Sequential()\n",
    "model.add(LSTM(units = 50, activation = 'relu', return_sequences = True,\n",
    "               input_shape =(x_train.shape[1],1)))\n",
    "model. add (Dropout(0.2)) \n",
    "\n",
    "model.add(LSTM(units = 60, activation = 'relu', return_sequences = True))\n",
    "model. add (Dropout(0.3)) \n",
    "\n",
    "model.add(LSTM(units = 120, activation = 'relu'))\n",
    "model. add (Dropout(0.4)) \n",
    "\n",
    "model.add(Dense(units = 1))"
   ]
  },
  {
   "cell_type": "code",
   "execution_count": 28,
   "id": "a4510efd",
   "metadata": {},
   "outputs": [
    {
     "name": "stdout",
     "output_type": "stream",
     "text": [
      "Epoch 1/50\n",
      "20/20 [==============================] - 26s 337ms/step - loss: 0.0019\n",
      "Epoch 2/50\n",
      "20/20 [==============================] - 5s 268ms/step - loss: 6.7009e-04\n",
      "Epoch 3/50\n",
      "20/20 [==============================] - 5s 272ms/step - loss: 3.3035e-04\n",
      "Epoch 4/50\n",
      "20/20 [==============================] - 5s 267ms/step - loss: 2.4767e-04\n",
      "Epoch 5/50\n",
      "20/20 [==============================] - 6s 281ms/step - loss: 2.1716e-04\n",
      "Epoch 6/50\n",
      "20/20 [==============================] - 5s 268ms/step - loss: 1.9752e-04\n",
      "Epoch 7/50\n",
      "20/20 [==============================] - 6s 283ms/step - loss: 2.2269e-04\n",
      "Epoch 8/50\n",
      "20/20 [==============================] - 6s 280ms/step - loss: 2.2913e-04\n",
      "Epoch 9/50\n",
      "20/20 [==============================] - 6s 280ms/step - loss: 2.2829e-04\n",
      "Epoch 10/50\n",
      "20/20 [==============================] - 6s 283ms/step - loss: 1.7579e-04\n",
      "Epoch 11/50\n",
      "20/20 [==============================] - 5s 261ms/step - loss: 1.7829e-04\n",
      "Epoch 12/50\n",
      "20/20 [==============================] - 6s 287ms/step - loss: 1.8284e-04\n",
      "Epoch 13/50\n",
      "20/20 [==============================] - 6s 280ms/step - loss: 1.9368e-04\n",
      "Epoch 14/50\n",
      "20/20 [==============================] - 6s 279ms/step - loss: 1.6502e-04\n",
      "Epoch 15/50\n",
      "20/20 [==============================] - 6s 288ms/step - loss: 1.9716e-04\n",
      "Epoch 16/50\n",
      "20/20 [==============================] - 5s 264ms/step - loss: 1.6802e-04\n",
      "Epoch 17/50\n",
      "20/20 [==============================] - 6s 283ms/step - loss: 1.8177e-04\n",
      "Epoch 18/50\n",
      "20/20 [==============================] - 6s 295ms/step - loss: 1.6381e-04\n",
      "Epoch 19/50\n",
      "20/20 [==============================] - 6s 278ms/step - loss: 1.6070e-04\n",
      "Epoch 20/50\n",
      "20/20 [==============================] - 6s 289ms/step - loss: 1.6469e-04\n",
      "Epoch 21/50\n",
      "20/20 [==============================] - 6s 288ms/step - loss: 1.8699e-04\n",
      "Epoch 22/50\n",
      "20/20 [==============================] - 6s 275ms/step - loss: 1.8957e-04\n",
      "Epoch 23/50\n",
      "20/20 [==============================] - 6s 300ms/step - loss: 1.9600e-04\n",
      "Epoch 24/50\n",
      "20/20 [==============================] - 7s 362ms/step - loss: 1.6826e-04\n",
      "Epoch 25/50\n",
      "20/20 [==============================] - 6s 276ms/step - loss: 1.4709e-04\n",
      "Epoch 26/50\n",
      "20/20 [==============================] - 6s 276ms/step - loss: 1.5342e-04\n",
      "Epoch 27/50\n",
      "20/20 [==============================] - 5s 274ms/step - loss: 1.3920e-04\n",
      "Epoch 28/50\n",
      "20/20 [==============================] - 5s 272ms/step - loss: 1.4559e-04\n",
      "Epoch 29/50\n",
      "20/20 [==============================] - 6s 276ms/step - loss: 1.7352e-04\n",
      "Epoch 30/50\n",
      "20/20 [==============================] - 5s 264ms/step - loss: 1.5987e-04\n",
      "Epoch 31/50\n",
      "20/20 [==============================] - 6s 288ms/step - loss: 1.2466e-04\n",
      "Epoch 32/50\n",
      "20/20 [==============================] - 6s 282ms/step - loss: 1.3912e-04\n",
      "Epoch 33/50\n",
      "20/20 [==============================] - 5s 276ms/step - loss: 1.5244e-04\n",
      "Epoch 34/50\n",
      "20/20 [==============================] - 5s 270ms/step - loss: 1.5633e-04\n",
      "Epoch 35/50\n",
      "20/20 [==============================] - 6s 285ms/step - loss: 1.6876e-04\n",
      "Epoch 36/50\n",
      "20/20 [==============================] - 6s 283ms/step - loss: 1.5523e-04\n",
      "Epoch 37/50\n",
      "20/20 [==============================] - 6s 295ms/step - loss: 1.3479e-04\n",
      "Epoch 38/50\n",
      "20/20 [==============================] - 5s 265ms/step - loss: 1.4983e-04\n",
      "Epoch 39/50\n",
      "20/20 [==============================] - 5s 260ms/step - loss: 1.3962e-04\n",
      "Epoch 40/50\n",
      "20/20 [==============================] - 5s 270ms/step - loss: 1.3564e-04\n",
      "Epoch 41/50\n",
      "20/20 [==============================] - 5s 272ms/step - loss: 1.3068e-04\n",
      "Epoch 42/50\n",
      "20/20 [==============================] - 5s 261ms/step - loss: 1.4371e-04\n",
      "Epoch 43/50\n",
      "20/20 [==============================] - 5s 265ms/step - loss: 1.3371e-04\n",
      "Epoch 44/50\n",
      "20/20 [==============================] - 5s 261ms/step - loss: 1.3149e-04\n",
      "Epoch 45/50\n",
      "20/20 [==============================] - 5s 264ms/step - loss: 1.2820e-04\n",
      "Epoch 46/50\n",
      "20/20 [==============================] - 5s 263ms/step - loss: 1.4852e-04\n",
      "Epoch 47/50\n",
      "20/20 [==============================] - 5s 270ms/step - loss: 1.1856e-04\n",
      "Epoch 48/50\n",
      "20/20 [==============================] - 5s 267ms/step - loss: 1.2131e-04\n",
      "Epoch 49/50\n",
      "20/20 [==============================] - 5s 266ms/step - loss: 1.2921e-04\n",
      "Epoch 50/50\n",
      "20/20 [==============================] - 5s 267ms/step - loss: 1.4633e-04\n"
     ]
    },
    {
     "data": {
      "text/plain": [
       "<keras.callbacks.History at 0xce69117460>"
      ]
     },
     "execution_count": 28,
     "metadata": {},
     "output_type": "execute_result"
    }
   ],
   "source": [
    "model.compile(optimizer='adam', loss = 'mean_squared_error')\n",
    "model.fit(x_train, y_train, epochs = 50)"
   ]
  },
  {
   "cell_type": "code",
   "execution_count": 12,
   "id": "a3430aec",
   "metadata": {},
   "outputs": [],
   "source": [
    "sell_year=int(selling_date.split('-')[0])\n",
    "sell_month=int(selling_date.split('-')[1])\n",
    "sell_day=int(selling_date.split('-')[2])\n",
    "our_end_date=date(2022,3,31)\n",
    "sell_date=date(sell_year,sell_month,sell_day)"
   ]
  },
  {
   "cell_type": "code",
   "execution_count": 40,
   "id": "f3bc0cc5",
   "metadata": {},
   "outputs": [],
   "source": [
    "import time\n",
    "from datetime import datetime,date,timedelta\n"
   ]
  },
  {
   "cell_type": "code",
   "execution_count": 129,
   "id": "bcc92145",
   "metadata": {},
   "outputs": [
    {
     "name": "stdout",
     "output_type": "stream",
     "text": [
      "1/1 [==============================] - 2s 2s/step\n",
      "1/1 [==============================] - 0s 172ms/step\n",
      "1/1 [==============================] - 0s 149ms/step\n",
      "1/1 [==============================] - 0s 158ms/step\n",
      "1/1 [==============================] - 0s 159ms/step\n",
      "1/1 [==============================] - 0s 119ms/step\n",
      "1/1 [==============================] - 0s 109ms/step\n",
      "1/1 [==============================] - 0s 125ms/step\n",
      "1/1 [==============================] - 0s 141ms/step\n",
      "1/1 [==============================] - 0s 125ms/step\n",
      "1/1 [==============================] - 0s 203ms/step\n",
      "1/1 [==============================] - 0s 141ms/step\n",
      "1/1 [==============================] - 0s 187ms/step\n",
      "1/1 [==============================] - 0s 156ms/step\n",
      "1/1 [==============================] - 0s 234ms/step\n",
      "1/1 [==============================] - 0s 281ms/step\n",
      "1/1 [==============================] - 0s 125ms/step\n",
      "1/1 [==============================] - 0s 172ms/step\n",
      "1/1 [==============================] - 0s 156ms/step\n",
      "1/1 [==============================] - 0s 156ms/step\n",
      "1/1 [==============================] - 0s 156ms/step\n",
      "1/1 [==============================] - 0s 125ms/step\n",
      "1/1 [==============================] - 0s 188ms/step\n",
      "1/1 [==============================] - 0s 312ms/step\n",
      "1/1 [==============================] - 0s 297ms/step\n",
      "1/1 [==============================] - 0s 172ms/step\n",
      "1/1 [==============================] - 0s 219ms/step\n",
      "1/1 [==============================] - 0s 234ms/step\n",
      "1/1 [==============================] - 0s 156ms/step\n",
      "1/1 [==============================] - 0s 125ms/step\n",
      "1/1 [==============================] - 0s 109ms/step\n",
      "1/1 [==============================] - 0s 125ms/step\n",
      "1/1 [==============================] - 0s 234ms/step\n",
      "1/1 [==============================] - 0s 203ms/step\n",
      "1/1 [==============================] - 0s 187ms/step\n",
      "1/1 [==============================] - 0s 141ms/step\n",
      "1/1 [==============================] - 0s 125ms/step\n",
      "1/1 [==============================] - 0s 156ms/step\n",
      "1/1 [==============================] - 0s 125ms/step\n",
      "1/1 [==============================] - 0s 109ms/step\n",
      "1/1 [==============================] - 0s 125ms/step\n",
      "1/1 [==============================] - 0s 141ms/step\n",
      "1/1 [==============================] - 0s 141ms/step\n",
      "1/1 [==============================] - 0s 109ms/step\n",
      "1/1 [==============================] - 0s 125ms/step\n",
      "1/1 [==============================] - 0s 125ms/step\n",
      "1/1 [==============================] - 0s 125ms/step\n",
      "1/1 [==============================] - 0s 141ms/step\n",
      "1/1 [==============================] - 0s 219ms/step\n",
      "1/1 [==============================] - 0s 141ms/step\n",
      "1/1 [==============================] - 0s 134ms/step\n",
      "1/1 [==============================] - 0s 203ms/step\n",
      "1/1 [==============================] - 0s 141ms/step\n",
      "1/1 [==============================] - 0s 125ms/step\n",
      "1/1 [==============================] - 0s 172ms/step\n",
      "1/1 [==============================] - 0s 109ms/step\n",
      "1/1 [==============================] - 0s 156ms/step\n",
      "1/1 [==============================] - 0s 141ms/step\n",
      "1/1 [==============================] - 0s 219ms/step\n",
      "1/1 [==============================] - 0s 203ms/step\n",
      "1/1 [==============================] - 0s 125ms/step\n",
      "1/1 [==============================] - 0s 234ms/step\n",
      "1/1 [==============================] - 0s 187ms/step\n",
      "1/1 [==============================] - 0s 125ms/step\n",
      "1/1 [==============================] - 0s 94ms/step\n",
      "1/1 [==============================] - 0s 125ms/step\n",
      "1/1 [==============================] - 0s 203ms/step\n",
      "1/1 [==============================] - 0s 125ms/step\n",
      "1/1 [==============================] - 0s 187ms/step\n",
      "1/1 [==============================] - 1s 547ms/step\n",
      "1/1 [==============================] - 0s 141ms/step\n",
      "1/1 [==============================] - 0s 156ms/step\n",
      "1/1 [==============================] - 0s 109ms/step\n",
      "1/1 [==============================] - 0s 109ms/step\n",
      "1/1 [==============================] - 0s 125ms/step\n",
      "1/1 [==============================] - 0s 172ms/step\n",
      "1/1 [==============================] - 0s 125ms/step\n",
      "1/1 [==============================] - 0s 141ms/step\n",
      "1/1 [==============================] - 0s 109ms/step\n",
      "1/1 [==============================] - 0s 141ms/step\n",
      "1/1 [==============================] - 0s 172ms/step\n",
      "1/1 [==============================] - 0s 156ms/step\n",
      "1/1 [==============================] - 0s 109ms/step\n",
      "1/1 [==============================] - 0s 141ms/step\n",
      "1/1 [==============================] - 0s 109ms/step\n",
      "1/1 [==============================] - 0s 172ms/step\n",
      "1/1 [==============================] - 0s 125ms/step\n",
      "1/1 [==============================] - 0s 125ms/step\n",
      "1/1 [==============================] - 0s 250ms/step\n",
      "1/1 [==============================] - 0s 156ms/step\n",
      "1/1 [==============================] - 0s 141ms/step\n",
      "1/1 [==============================] - 0s 125ms/step\n",
      "1/1 [==============================] - 0s 125ms/step\n",
      "1/1 [==============================] - 0s 117ms/step\n",
      "1/1 [==============================] - 0s 125ms/step\n",
      "1/1 [==============================] - 0s 109ms/step\n",
      "1/1 [==============================] - 0s 141ms/step\n",
      "1/1 [==============================] - 0s 172ms/step\n",
      "1/1 [==============================] - 0s 109ms/step\n",
      "1/1 [==============================] - 0s 109ms/step\n",
      "1/1 [==============================] - 0s 109ms/step\n",
      "1/1 [==============================] - 0s 142ms/step\n",
      "1/1 [==============================] - 0s 109ms/step\n",
      "1/1 [==============================] - 0s 109ms/step\n",
      "1/1 [==============================] - 0s 125ms/step\n",
      "1/1 [==============================] - 0s 125ms/step\n",
      "1/1 [==============================] - 0s 102ms/step\n",
      "1/1 [==============================] - 0s 109ms/step\n",
      "1/1 [==============================] - 0s 109ms/step\n",
      "1/1 [==============================] - 0s 125ms/step\n",
      "1/1 [==============================] - 0s 109ms/step\n",
      "1/1 [==============================] - 0s 125ms/step\n",
      "1/1 [==============================] - 0s 109ms/step\n",
      "1/1 [==============================] - 0s 125ms/step\n",
      "1/1 [==============================] - 0s 125ms/step\n",
      "1/1 [==============================] - 0s 141ms/step\n",
      "1/1 [==============================] - 0s 141ms/step\n",
      "1/1 [==============================] - 0s 126ms/step\n",
      "1/1 [==============================] - 0s 125ms/step\n",
      "1/1 [==============================] - 0s 109ms/step\n",
      "1/1 [==============================] - 0s 141ms/step\n",
      "1/1 [==============================] - 0s 109ms/step\n",
      "1/1 [==============================] - 0s 125ms/step\n",
      "1/1 [==============================] - 0s 125ms/step\n",
      "1/1 [==============================] - 0s 125ms/step\n",
      "1/1 [==============================] - 0s 94ms/step\n",
      "1/1 [==============================] - 0s 94ms/step\n",
      "1/1 [==============================] - 0s 109ms/step\n",
      "1/1 [==============================] - 0s 109ms/step\n",
      "1/1 [==============================] - 0s 94ms/step\n",
      "1/1 [==============================] - 0s 94ms/step\n",
      "1/1 [==============================] - 0s 109ms/step\n",
      "1/1 [==============================] - 0s 127ms/step\n",
      "1/1 [==============================] - 0s 125ms/step\n",
      "1/1 [==============================] - 0s 94ms/step\n",
      "1/1 [==============================] - 0s 100ms/step\n",
      "1/1 [==============================] - 0s 94ms/step\n",
      "1/1 [==============================] - 0s 94ms/step\n",
      "1/1 [==============================] - 0s 62ms/step\n",
      "1/1 [==============================] - 0s 86ms/step\n",
      "1/1 [==============================] - 0s 125ms/step\n",
      "1/1 [==============================] - 0s 109ms/step\n",
      "1/1 [==============================] - 0s 125ms/step\n",
      "1/1 [==============================] - 0s 109ms/step\n",
      "1/1 [==============================] - 0s 141ms/step\n",
      "1/1 [==============================] - 0s 141ms/step\n",
      "1/1 [==============================] - 0s 125ms/step\n",
      "1/1 [==============================] - 0s 102ms/step\n",
      "1/1 [==============================] - 0s 125ms/step\n",
      "1/1 [==============================] - 0s 141ms/step\n",
      "1/1 [==============================] - 0s 109ms/step\n",
      "1/1 [==============================] - 0s 109ms/step\n",
      "1/1 [==============================] - 0s 109ms/step\n",
      "1/1 [==============================] - 0s 125ms/step\n",
      "1/1 [==============================] - 0s 125ms/step\n",
      "1/1 [==============================] - 0s 109ms/step\n",
      "1/1 [==============================] - 0s 109ms/step\n",
      "1/1 [==============================] - 0s 141ms/step\n",
      "1/1 [==============================] - 0s 109ms/step\n",
      "1/1 [==============================] - 0s 156ms/step\n",
      "1/1 [==============================] - 0s 141ms/step\n",
      "1/1 [==============================] - 0s 109ms/step\n",
      "1/1 [==============================] - 0s 109ms/step\n",
      "1/1 [==============================] - 0s 125ms/step\n",
      "1/1 [==============================] - 0s 281ms/step\n",
      "1/1 [==============================] - 0s 141ms/step\n",
      "1/1 [==============================] - 0s 219ms/step\n",
      "1/1 [==============================] - 0s 125ms/step\n",
      "1/1 [==============================] - 0s 109ms/step\n",
      "1/1 [==============================] - 0s 141ms/step\n",
      "1/1 [==============================] - 0s 141ms/step\n",
      "1/1 [==============================] - 0s 109ms/step\n",
      "1/1 [==============================] - 0s 141ms/step\n",
      "1/1 [==============================] - 0s 125ms/step\n",
      "1/1 [==============================] - 0s 125ms/step\n",
      "1/1 [==============================] - 0s 125ms/step\n",
      "1/1 [==============================] - 0s 109ms/step\n",
      "1/1 [==============================] - 0s 109ms/step\n",
      "1/1 [==============================] - 0s 109ms/step\n",
      "1/1 [==============================] - 0s 109ms/step\n",
      "1/1 [==============================] - 0s 141ms/step\n",
      "1/1 [==============================] - 0s 109ms/step\n",
      "1/1 [==============================] - 0s 94ms/step\n",
      "1/1 [==============================] - 0s 109ms/step\n",
      "1/1 [==============================] - 0s 94ms/step\n",
      "1/1 [==============================] - 0s 94ms/step\n",
      "1/1 [==============================] - 0s 94ms/step\n",
      "1/1 [==============================] - 0s 94ms/step\n",
      "1/1 [==============================] - 0s 86ms/step\n",
      "1/1 [==============================] - 0s 78ms/step\n",
      "1/1 [==============================] - 0s 78ms/step\n",
      "1/1 [==============================] - 0s 78ms/step\n",
      "1/1 [==============================] - 0s 141ms/step\n",
      "1/1 [==============================] - 0s 156ms/step\n",
      "1/1 [==============================] - 0s 125ms/step\n",
      "1/1 [==============================] - 0s 297ms/step\n",
      "1/1 [==============================] - 1s 547ms/step\n",
      "1/1 [==============================] - 0s 109ms/step\n",
      "1/1 [==============================] - 0s 125ms/step\n",
      "1/1 [==============================] - 0s 125ms/step\n",
      "1/1 [==============================] - 0s 125ms/step\n",
      "1/1 [==============================] - 0s 125ms/step\n",
      "1/1 [==============================] - 0s 109ms/step\n",
      "1/1 [==============================] - 0s 125ms/step\n",
      "1/1 [==============================] - 0s 109ms/step\n",
      "1/1 [==============================] - 0s 125ms/step\n",
      "1/1 [==============================] - 0s 299ms/step\n",
      "1/1 [==============================] - 0s 125ms/step\n",
      "1/1 [==============================] - 0s 109ms/step\n",
      "1/1 [==============================] - 0s 125ms/step\n",
      "1/1 [==============================] - 0s 125ms/step\n",
      "1/1 [==============================] - 0s 438ms/step\n",
      "1/1 [==============================] - 0s 156ms/step\n",
      "1/1 [==============================] - 0s 141ms/step\n",
      "1/1 [==============================] - 0s 109ms/step\n",
      "1/1 [==============================] - 0s 125ms/step\n",
      "1/1 [==============================] - 0s 125ms/step\n",
      "1/1 [==============================] - 0s 125ms/step\n",
      "1/1 [==============================] - 0s 141ms/step\n",
      "1/1 [==============================] - 0s 125ms/step\n",
      "1/1 [==============================] - 0s 125ms/step\n",
      "1/1 [==============================] - 0s 126ms/step\n",
      "1/1 [==============================] - 0s 133ms/step\n",
      "1/1 [==============================] - 0s 250ms/step\n",
      "1/1 [==============================] - 0s 141ms/step\n",
      "1/1 [==============================] - 0s 109ms/step\n",
      "1/1 [==============================] - 0s 125ms/step\n",
      "1/1 [==============================] - 0s 306ms/step\n",
      "1/1 [==============================] - 0s 141ms/step\n",
      "1/1 [==============================] - 0s 141ms/step\n",
      "1/1 [==============================] - 0s 141ms/step\n",
      "1/1 [==============================] - 0s 141ms/step\n",
      "1/1 [==============================] - 0s 109ms/step\n",
      "1/1 [==============================] - 0s 109ms/step\n",
      "1/1 [==============================] - 0s 109ms/step\n",
      "1/1 [==============================] - 0s 109ms/step\n",
      "1/1 [==============================] - 0s 109ms/step\n",
      "1/1 [==============================] - 0s 94ms/step\n",
      "1/1 [==============================] - 0s 94ms/step\n",
      "1/1 [==============================] - 0s 109ms/step\n",
      "1/1 [==============================] - 0s 94ms/step\n",
      "1/1 [==============================] - 0s 109ms/step\n",
      "1/1 [==============================] - 0s 109ms/step\n",
      "1/1 [==============================] - 0s 94ms/step\n"
     ]
    }
   ],
   "source": [
    "for i in df.index:\n",
    "    if sell_date == i.date():\n",
    "        sell_date_price=df.loc[i]['Close']\n",
    "        break\n",
    "else:\n",
    "    while (sell_date-our_end_date).days!=0:\n",
    "        sample=scaled_data[scaled_data.shape[0]-100:scaled_data.shape[0]]\n",
    "        sample=sample.reshape(1,100,1)\n",
    "        predicted=model.predict(sample)\n",
    "        scaled_data=np.append(scaled_data,[predicted[0,0]])\n",
    "        sell_date-=timedelta(days=1)\n",
    "    sell_date_price=scaler.inverse_transform(np.array(scaled_data[-1]).reshape(-1,1))"
   ]
  },
  {
   "cell_type": "code",
   "execution_count": null,
   "id": "b090735a",
   "metadata": {},
   "outputs": [],
   "source": [
    "df2=yf.download(ticker,'2018-01-01','2022-3-31')\n",
    "data2 = df2.sort_index(ascending=True, axis=0)\n",
    "open_data=data2.reset_index()\n",
    "open_new_data = pd.DataFrame(index=range(0,len(df)),columns=['Date', 'Open'])\n",
    "for i in range(0,len(data)):\n",
    "    open_new_data['Date'][i] = open_data['Date'][i]\n",
    "    open_new_data['Open'][i] = open_data['Open'][i]\n",
    "\n",
    "#setting index\n",
    "open_new_data.index = open_new_data.Date\n",
    "open_new_data.drop('Date', axis=1, inplace=True)\n",
    "\n",
    "#creating train and test sets\n",
    "open_dataset = open_new_data.values\n",
    "\n",
    "train_open = open_dataset[0:int(0.7*len(df2)),:]\n",
    "valid_open = open_dataset[int(0.7*len(df2)):,:]\n",
    "\n",
    "#converting dataset into x_train and y_train\n",
    "scaler = MinMaxScaler(feature_range=(0, 1))\n",
    "scaled_data_open = scaler.fit_transform(dataset)\n",
    "\n",
    "open_x_train, open_y_train = [], []\n",
    "for i in range(100,len(train_open)):\n",
    "    open_x_train.append(scaled_data_open[i-100:i,0])\n",
    "    open_y_train.append(scaled_data_open[i,0])\n",
    "open_x_train, open_y_train = np.array(open_x_train), np.array(open_y_train)\n",
    "\n",
    "open_x_train = np.reshape(open_x_train, (open_x_train.shape[0],open_x_train.shape[1],1))\n",
    "\n",
    "valid_open = scaled_data_open[int(0.7*len(df2)):,:]\n",
    "\n",
    "open_model = Sequential()\n",
    "open_model.add(LSTM(units = 50, activation = 'relu', return_sequences = True,\n",
    "               input_shape =(open_x_train.shape[1],1)))\n",
    "open_model. add (Dropout(0.2)) \n",
    "\n",
    "open_model.add(LSTM(units = 60, activation = 'relu', return_sequences = True))\n",
    "open_model. add (Dropout(0.3)) \n",
    "\n",
    "open_model.add(LSTM(units = 120, activation = 'relu'))\n",
    "open_model. add (Dropout(0.4)) \n",
    "\n",
    "open_model.add(Dense(units = 1))\n",
    "\n",
    "open_model.compile(optimizer='adam', loss = 'mean_squared_error')\n",
    "open_model.fit(open_x_train, open_y_train, epochs = 50)\n",
    "\n",
    "for i in df2.index:\n",
    "    if buy_date == i.date():\n",
    "        buy_date_price=df2.loc[i]['Open']\n",
    "else:\n",
    "    while (buy_date-our_end_date).days!=0:\n",
    "        sample=scaled_data_open[scaled_data_open.shape[0]-100:scaled_data_open.shape[0]]\n",
    "        sample=sample.reshape(1,100,1)\n",
    "        predicted=open_model.predict(sample)\n",
    "        scaled_data_open=np.append(scaled_data_open,[predicted[0,0]])\n",
    "        buy_date-=timedelta(days=1)\n",
    "    buy_date_price=scaler.inverse_transform(np.array(scaled_data_open[-1]).reshape(-1,1))"
   ]
  },
  {
   "cell_type": "code",
   "execution_count": 57,
   "id": "5a8caa77",
   "metadata": {},
   "outputs": [
    {
     "name": "stdout",
     "output_type": "stream",
     "text": [
      "[*********************100%***********************]  1 of 1 completed\n"
     ]
    }
   ],
   "source": [
    "df2=yf.download(ticker,'2018-01-01','2022-3-31')\n",
    "data2 = df2.sort_index(ascending=True, axis=0)\n",
    "open_data=data2.reset_index()\n",
    "open_new_data = pd.DataFrame(index=range(0,len(df)),columns=['Date', 'Open'])\n",
    "for i in range(0,len(data)):\n",
    "    open_new_data['Date'][i] = open_data['Date'][i]\n",
    "    open_new_data['Open'][i] = open_data['Open'][i]\n",
    "\n",
    "#setting index\n",
    "open_new_data.index = open_new_data.Date\n",
    "open_new_data.drop('Date', axis=1, inplace=True)\n",
    "\n",
    "#creating train and test sets\n",
    "open_dataset = open_new_data.values"
   ]
  },
  {
   "cell_type": "code",
   "execution_count": 58,
   "id": "6cf9faaf",
   "metadata": {},
   "outputs": [],
   "source": [
    "train_open = open_dataset[0:int(0.7*len(df2)),:]\n",
    "valid_open = open_dataset[int(0.7*len(df2)):,:]\n",
    "\n",
    "#converting dataset into x_train and y_train\n",
    "scaler = MinMaxScaler(feature_range=(0, 1))\n",
    "scaled_data_open = scaler.fit_transform(dataset)\n",
    "\n",
    "open_x_train, open_y_train = [], []\n",
    "for i in range(100,len(train_open)):\n",
    "    open_x_train.append(scaled_data_open[i-100:i,0])\n",
    "    open_y_train.append(scaled_data_open[i,0])\n",
    "open_x_train, open_y_train = np.array(open_x_train), np.array(open_y_train)\n",
    "\n",
    "open_x_train = np.reshape(open_x_train, (open_x_train.shape[0],open_x_train.shape[1],1))\n",
    "\n",
    "valid_open = scaled_data_open[int(0.7*len(df2)):,:]"
   ]
  },
  {
   "cell_type": "code",
   "execution_count": 59,
   "id": "e3902254",
   "metadata": {},
   "outputs": [],
   "source": [
    "open_model = Sequential()\n",
    "open_model.add(LSTM(units = 50, activation = 'relu', return_sequences = True,\n",
    "               input_shape =(open_x_train.shape[1],1)))\n",
    "open_model. add (Dropout(0.2)) \n",
    "\n",
    "open_model.add(LSTM(units = 60, activation = 'relu', return_sequences = True))\n",
    "open_model. add (Dropout(0.3)) \n",
    "\n",
    "open_model.add(LSTM(units = 120, activation = 'relu'))\n",
    "open_model. add (Dropout(0.4)) \n",
    "\n",
    "open_model.add(Dense(units = 1))"
   ]
  },
  {
   "cell_type": "code",
   "execution_count": 60,
   "id": "5c978039",
   "metadata": {},
   "outputs": [
    {
     "name": "stdout",
     "output_type": "stream",
     "text": [
      "Epoch 1/50\n",
      "20/20 [==============================] - 34s 344ms/step - loss: 0.0016\n",
      "Epoch 2/50\n",
      "20/20 [==============================] - 5s 267ms/step - loss: 4.0353e-04\n",
      "Epoch 3/50\n",
      "20/20 [==============================] - 5s 258ms/step - loss: 2.5719e-04\n",
      "Epoch 4/50\n",
      "20/20 [==============================] - 5s 265ms/step - loss: 2.6058e-04\n",
      "Epoch 5/50\n",
      "20/20 [==============================] - 5s 268ms/step - loss: 2.5741e-04\n",
      "Epoch 6/50\n",
      "20/20 [==============================] - 6s 276ms/step - loss: 2.0306e-04\n",
      "Epoch 7/50\n",
      "20/20 [==============================] - 5s 263ms/step - loss: 2.1083e-04\n",
      "Epoch 8/50\n",
      "20/20 [==============================] - 5s 272ms/step - loss: 2.3018e-04\n",
      "Epoch 9/50\n",
      "20/20 [==============================] - 5s 270ms/step - loss: 1.8772e-04\n",
      "Epoch 10/50\n",
      "20/20 [==============================] - 5s 268ms/step - loss: 1.8074e-04\n",
      "Epoch 11/50\n",
      "20/20 [==============================] - 5s 256ms/step - loss: 1.8002e-04\n",
      "Epoch 12/50\n",
      "20/20 [==============================] - 5s 256ms/step - loss: 1.7540e-04\n",
      "Epoch 13/50\n",
      "20/20 [==============================] - 5s 263ms/step - loss: 1.8271e-04\n",
      "Epoch 14/50\n",
      "20/20 [==============================] - 5s 260ms/step - loss: 1.7896e-04\n",
      "Epoch 15/50\n",
      "20/20 [==============================] - 5s 263ms/step - loss: 1.7549e-04\n",
      "Epoch 16/50\n",
      "20/20 [==============================] - 5s 258ms/step - loss: 1.6709e-04\n",
      "Epoch 17/50\n",
      "20/20 [==============================] - 5s 268ms/step - loss: 1.4301e-04\n",
      "Epoch 18/50\n",
      "20/20 [==============================] - 5s 256ms/step - loss: 1.7448e-04\n",
      "Epoch 19/50\n",
      "20/20 [==============================] - 5s 272ms/step - loss: 1.7836e-04\n",
      "Epoch 20/50\n",
      "20/20 [==============================] - 5s 273ms/step - loss: 1.4112e-04\n",
      "Epoch 21/50\n",
      "20/20 [==============================] - 5s 268ms/step - loss: 1.5764e-04\n",
      "Epoch 22/50\n",
      "20/20 [==============================] - 5s 270ms/step - loss: 1.4174e-04\n",
      "Epoch 23/50\n",
      "20/20 [==============================] - 5s 261ms/step - loss: 1.7480e-04\n",
      "Epoch 24/50\n",
      "20/20 [==============================] - 5s 264ms/step - loss: 1.4269e-04\n",
      "Epoch 25/50\n",
      "20/20 [==============================] - 5s 267ms/step - loss: 1.5312e-04\n",
      "Epoch 26/50\n",
      "20/20 [==============================] - 5s 272ms/step - loss: 1.4749e-04\n",
      "Epoch 27/50\n",
      "20/20 [==============================] - 5s 263ms/step - loss: 1.3388e-04\n",
      "Epoch 28/50\n",
      "20/20 [==============================] - 5s 267ms/step - loss: 1.3894e-04\n",
      "Epoch 29/50\n",
      "20/20 [==============================] - 5s 262ms/step - loss: 1.2735e-04\n",
      "Epoch 30/50\n",
      "20/20 [==============================] - 5s 264ms/step - loss: 1.4114e-04\n",
      "Epoch 31/50\n",
      "20/20 [==============================] - 5s 269ms/step - loss: 1.2626e-04\n",
      "Epoch 32/50\n",
      "20/20 [==============================] - 5s 263ms/step - loss: 1.6062e-04\n",
      "Epoch 33/50\n",
      "20/20 [==============================] - 5s 259ms/step - loss: 1.3312e-04\n",
      "Epoch 34/50\n",
      "20/20 [==============================] - 5s 262ms/step - loss: 1.2736e-04\n",
      "Epoch 35/50\n",
      "20/20 [==============================] - 5s 261ms/step - loss: 1.3114e-04\n",
      "Epoch 36/50\n",
      "20/20 [==============================] - 5s 273ms/step - loss: 1.1722e-04\n",
      "Epoch 37/50\n",
      "20/20 [==============================] - 5s 259ms/step - loss: 1.1470e-04\n",
      "Epoch 38/50\n",
      "20/20 [==============================] - 5s 259ms/step - loss: 1.2016e-04\n",
      "Epoch 39/50\n",
      "20/20 [==============================] - 5s 271ms/step - loss: 1.5136e-04\n",
      "Epoch 40/50\n",
      "20/20 [==============================] - 5s 258ms/step - loss: 1.3847e-04\n",
      "Epoch 41/50\n",
      "20/20 [==============================] - 5s 260ms/step - loss: 1.4947e-04\n",
      "Epoch 42/50\n",
      "20/20 [==============================] - 5s 255ms/step - loss: 1.4372e-04\n",
      "Epoch 43/50\n",
      "20/20 [==============================] - 5s 264ms/step - loss: 1.5929e-04\n",
      "Epoch 44/50\n",
      "20/20 [==============================] - 5s 256ms/step - loss: 1.5955e-04\n",
      "Epoch 45/50\n",
      "20/20 [==============================] - 5s 260ms/step - loss: 1.2480e-04\n",
      "Epoch 46/50\n",
      "20/20 [==============================] - 5s 256ms/step - loss: 1.4316e-04\n",
      "Epoch 47/50\n",
      "20/20 [==============================] - 5s 260ms/step - loss: 1.3460e-04\n",
      "Epoch 48/50\n",
      "20/20 [==============================] - 5s 262ms/step - loss: 1.2221e-04\n",
      "Epoch 49/50\n",
      "20/20 [==============================] - 5s 261ms/step - loss: 1.2805e-04\n",
      "Epoch 50/50\n",
      "20/20 [==============================] - 5s 259ms/step - loss: 1.2038e-04\n"
     ]
    },
    {
     "data": {
      "text/plain": [
       "<keras.callbacks.History at 0xce06fc3250>"
      ]
     },
     "execution_count": 60,
     "metadata": {},
     "output_type": "execute_result"
    }
   ],
   "source": [
    "open_model.compile(optimizer='adam', loss = 'mean_squared_error')\n",
    "open_model.fit(open_x_train, open_y_train, epochs = 50)"
   ]
  },
  {
   "cell_type": "code",
   "execution_count": 61,
   "id": "d12ae006",
   "metadata": {},
   "outputs": [],
   "source": []
  },
  {
   "cell_type": "code",
   "execution_count": 62,
   "id": "b96a8035",
   "metadata": {},
   "outputs": [],
   "source": []
  },
  {
   "cell_type": "code",
   "execution_count": 63,
   "id": "6a533a7a",
   "metadata": {},
   "outputs": [
    {
     "name": "stdout",
     "output_type": "stream",
     "text": [
      "1/1 [==============================] - 26s 26s/step\n",
      "1/1 [==============================] - 0s 145ms/step\n",
      "1/1 [==============================] - 0s 141ms/step\n",
      "1/1 [==============================] - 0s 167ms/step\n",
      "1/1 [==============================] - 0s 139ms/step\n",
      "1/1 [==============================] - 0s 131ms/step\n",
      "1/1 [==============================] - 0s 145ms/step\n",
      "1/1 [==============================] - 0s 149ms/step\n",
      "1/1 [==============================] - 0s 151ms/step\n",
      "1/1 [==============================] - 0s 140ms/step\n",
      "1/1 [==============================] - 0s 158ms/step\n",
      "1/1 [==============================] - 0s 125ms/step\n",
      "1/1 [==============================] - 0s 118ms/step\n",
      "1/1 [==============================] - 0s 147ms/step\n",
      "1/1 [==============================] - 0s 117ms/step\n",
      "1/1 [==============================] - 0s 162ms/step\n",
      "1/1 [==============================] - 0s 135ms/step\n",
      "1/1 [==============================] - 0s 192ms/step\n",
      "1/1 [==============================] - 0s 192ms/step\n",
      "1/1 [==============================] - 0s 152ms/step\n",
      "1/1 [==============================] - 0s 99ms/step\n",
      "1/1 [==============================] - 0s 249ms/step\n",
      "1/1 [==============================] - 0s 113ms/step\n",
      "1/1 [==============================] - 0s 104ms/step\n",
      "1/1 [==============================] - 0s 101ms/step\n",
      "1/1 [==============================] - 0s 97ms/step\n",
      "1/1 [==============================] - 0s 93ms/step\n",
      "1/1 [==============================] - 0s 100ms/step\n",
      "1/1 [==============================] - 0s 96ms/step\n",
      "1/1 [==============================] - 0s 95ms/step\n",
      "1/1 [==============================] - 0s 95ms/step\n",
      "1/1 [==============================] - 0s 91ms/step\n",
      "1/1 [==============================] - 0s 91ms/step\n",
      "1/1 [==============================] - 0s 91ms/step\n",
      "1/1 [==============================] - 0s 87ms/step\n"
     ]
    }
   ],
   "source": [
    "for i in df2.index:\n",
    "    if buy_date == i.date():\n",
    "        buy_date_price=df2.loc[i]['Open']\n",
    "else:\n",
    "    while (buy_date-our_end_date).days!=0:\n",
    "        sample=scaled_data_open[scaled_data_open.shape[0]-100:scaled_data_open.shape[0]]\n",
    "        sample=sample.reshape(1,100,1)\n",
    "        predicted=open_model.predict(sample)\n",
    "        scaled_data_open=np.append(scaled_data_open,[predicted[0,0]])\n",
    "        buy_date-=timedelta(days=1)\n",
    "    buy_date_price=scaler.inverse_transform(np.array(scaled_data_open[-1]).reshape(-1,1))\n",
    "    "
   ]
  },
  {
   "cell_type": "code",
   "execution_count": 26,
   "id": "c63c83d8",
   "metadata": {},
   "outputs": [],
   "source": [
    "from sklearn.preprocessing import MinMaxScaler\n",
    "from keras.layers import Dense, Dropout , LSTM\n",
    "from keras.models import Sequential"
   ]
  },
  {
   "cell_type": "code",
   "execution_count": null,
   "id": "56ca747e",
   "metadata": {},
   "outputs": [],
   "source": [
    "model.save('keras_model.h5')"
   ]
  },
  {
   "cell_type": "code",
   "execution_count": 87,
   "id": "269200d6",
   "metadata": {},
   "outputs": [],
   "source": [
    "import matplotlib.pyplot as plt"
   ]
  },
  {
   "cell_type": "code",
   "execution_count": 5,
   "id": "0327d84d",
   "metadata": {},
   "outputs": [],
   "source": [
    "import gspread"
   ]
  },
  {
   "cell_type": "code",
   "execution_count": 6,
   "id": "e4de8c33",
   "metadata": {},
   "outputs": [],
   "source": [
    "cread_file='iron-dynamics-304717-d77dd1c57cb1.json'\n",
    "gc=gspread.service_account(cread_file)"
   ]
  },
  {
   "cell_type": "code",
   "execution_count": 7,
   "id": "6b96d14f",
   "metadata": {},
   "outputs": [],
   "source": [
    "template=gc.open('Template')"
   ]
  },
  {
   "cell_type": "code",
   "execution_count": 8,
   "id": "1dd7997d",
   "metadata": {},
   "outputs": [],
   "source": [
    "ws=template.worksheet('Sheet1')"
   ]
  },
  {
   "cell_type": "code",
   "execution_count": 9,
   "id": "f5584f82",
   "metadata": {},
   "outputs": [],
   "source": [
    "ticker=ws.cell(1,4).value+'.NS'\n",
    "quantity=ws.cell(2,4).value\n",
    "Buying_date=ws.cell(3,4).value\n",
    "selling_date=ws.cell(4,4).value"
   ]
  },
  {
   "cell_type": "code",
   "execution_count": 64,
   "id": "7ff4b8db",
   "metadata": {},
   "outputs": [],
   "source": [
    "Profit_loss=(sell_date_price-buy_date_price)*int(quantity)"
   ]
  },
  {
   "cell_type": "code",
   "execution_count": 71,
   "id": "ddca2746",
   "metadata": {},
   "outputs": [
    {
     "data": {
      "text/plain": [
       "{'spreadsheetId': '1qRp5j66DJKcTXxYkhv7Ac2VOy3sCfQQ29-hQi1SzvvU',\n",
       " 'updatedRange': 'Sheet1!D9',\n",
       " 'updatedRows': 1,\n",
       " 'updatedColumns': 1,\n",
       " 'updatedCells': 1}"
      ]
     },
     "execution_count": 71,
     "metadata": {},
     "output_type": "execute_result"
    }
   ],
   "source": [
    "ws.update_cell(9,4,Profit_loss[0,0])"
   ]
  },
  {
   "cell_type": "code",
   "execution_count": 73,
   "id": "eb0da33b",
   "metadata": {},
   "outputs": [],
   "source": [
    "import matplotlib.pyplot as plt"
   ]
  },
  {
   "cell_type": "code",
   "execution_count": 76,
   "id": "e5dab659",
   "metadata": {},
   "outputs": [
    {
     "data": {
      "text/plain": [
       "(633,)"
      ]
     },
     "execution_count": 76,
     "metadata": {},
     "output_type": "execute_result"
    }
   ],
   "source": [
    "y_train.shape"
   ]
  },
  {
   "cell_type": "code",
   "execution_count": 80,
   "id": "8365402f",
   "metadata": {},
   "outputs": [
    {
     "data": {
      "text/plain": [
       "datetime.timedelta(days=244)"
      ]
     },
     "execution_count": 80,
     "metadata": {},
     "output_type": "execute_result"
    }
   ],
   "source": [
    "sell_date-our_end_date"
   ]
  },
  {
   "cell_type": "code",
   "execution_count": 75,
   "id": "5d82afef",
   "metadata": {},
   "outputs": [
    {
     "data": {
      "text/plain": [
       "(1577,)"
      ]
     },
     "execution_count": 75,
     "metadata": {},
     "output_type": "execute_result"
    }
   ],
   "source": [
    "scaled_data.shape"
   ]
  },
  {
   "cell_type": "code",
   "execution_count": 150,
   "id": "4b2f0e7f",
   "metadata": {},
   "outputs": [
    {
     "data": {
      "image/png": "[encoded data removed]",
      "text/plain": [
       "<Figure size 864x432 with 1 Axes>"
      ]
     },
     "metadata": {
      "needs_background": "light"
     },
     "output_type": "display_data"
    }
   ],
   "source": [
    "plt.figure(figsize=(12,6))\n",
    "plt.plot(y_train, 'r ' , label = 'Original Price')\n",
    "plt.plot(scaled_data[101:], 'b', label='Predicted Price')\n",
    "plt.xlabel('Time')\n",
    "plt.ylabel ('Price')\n",
    "plt.legend()\n",
    "plt.show()"
   ]
  }
 ],
 "metadata": {
  "kernelspec": {
   "display_name": "Python 3 (ipykernel)",
   "language": "python",
   "name": "python3"
  },
  "language_info": {
   "codemirror_mode": {
    "name": "ipython",
    "version": 3
   },
   "file_extension": ".py",
   "mimetype": "text/x-python",
   "name": "python",
   "nbconvert_exporter": "python",
   "pygments_lexer": "ipython3",
   "version": "3.9.12"
  }
 },
 "nbformat": 4,
 "nbformat_minor": 5
}
